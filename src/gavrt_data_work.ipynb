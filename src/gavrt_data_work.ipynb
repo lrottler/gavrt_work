{
 "cells": [
  {
   "cell_type": "code",
   "execution_count": 1,
   "metadata": {
    "collapsed": true
   },
   "outputs": [],
   "source": [
    "import numpy as np\n",
    "import pandas as pd\n",
    "\n",
    "%matplotlib inline\n",
    "import matplotlib.pyplot as plt\n"
   ]
  },
  {
   "cell_type": "markdown",
   "metadata": {},
   "source": [
    "## Read in excel xlsx file and print first 5 rows of data frame (data_file) to see what we have"
   ]
  },
  {
   "cell_type": "code",
   "execution_count": 2,
   "metadata": {
    "collapsed": false
   },
   "outputs": [
    {
     "name": "stdout",
     "output_type": "stream",
     "text": [
      "   rss_cfg_id  year  doy       utc       epoch  chan  sky_freq feed   pol  \\\n",
      "0       91948  2016  106  18:52:02  1460746322     4      8450  hff  liny   \n",
      "1       91948  2016  106  18:52:02  1460746322     4      8450  hff  liny   \n",
      "2       91948  2016  106  18:52:02  1460746322     4      8450  hff  liny   \n",
      "3       91948  2016  106  18:52:02  1460746322     4      8450  hff  liny   \n",
      "4       91948  2016  106  18:52:02  1460746322     4      8450  hff  liny   \n",
      "\n",
      "    nd   ...   year.2  doy.2     utc.2       epoch.2     tsys        az  \\\n",
      "0  nar   ...     2016    107  02:11:12  1.460773e+09  41.6857  155.2595   \n",
      "1  nar   ...     2016    107  02:11:13  1.460773e+09  41.6920  155.2700   \n",
      "2  nar   ...     2016    107  02:11:14  1.460773e+09  41.6755  155.2885   \n",
      "3  nar   ...     2016    107  02:11:15  1.460773e+09  41.6840  155.3040   \n",
      "4  nar   ...     2016    107  02:11:16  1.460773e+09  41.6795  155.3171   \n",
      "\n",
      "        el        ha      dec  offset  \n",
      "0  39.1578  340.6110 -12.1513 -0.3434  \n",
      "1  39.1618  340.6202 -12.1504 -0.3385  \n",
      "2  39.1680  340.6362 -12.1497 -0.3270  \n",
      "3  39.1712  340.6489 -12.1508 -0.3187  \n",
      "4  39.1713  340.6587 -12.1543 -0.3132  \n",
      "\n",
      "[5 rows x 37 columns]\n"
     ]
    }
   ],
   "source": [
    "data_file = pd.read_excel(\"../data/data_107_2016.xlsx\")\n",
    "print(data_file[0:5])"
   ]
  },
  {
   "cell_type": "markdown",
   "metadata": {},
   "source": [
    "## Print the column headers to see what kind of data are in each column"
   ]
  },
  {
   "cell_type": "code",
   "execution_count": 3,
   "metadata": {
    "collapsed": false
   },
   "outputs": [
    {
     "name": "stdout",
     "output_type": "stream",
     "text": [
      "Empty DataFrame\n",
      "Columns: [rss_cfg_id, year, doy, utc, epoch, chan, sky_freq, feed, pol, nd, if_mode, if_bw, bb_bw, fiber_chan, xpwr_cfg_id, rss_cfg_id.1, souce_id, cal_src_id, year.1, doy.1, utc.1, epoch.1, axis, chan.1, cal_flux, xpwr_id, xpwr_cfg_id.1, year.2, doy.2, utc.2, epoch.2, tsys, az, el, ha, dec, offset]\n",
      "Index: []\n",
      "\n",
      "[0 rows x 37 columns]\n"
     ]
    }
   ],
   "source": [
    "print(data_file[0:0])"
   ]
  },
  {
   "cell_type": "code",
   "execution_count": 4,
   "metadata": {
    "collapsed": true
   },
   "outputs": [],
   "source": [
    "rss_cfg_id = data_file['rss_cfg_id']"
   ]
  },
  {
   "cell_type": "markdown",
   "metadata": {},
   "source": [
    "## Print values in column, 'rss_cfg_id'.  (Only first and last 30 or so values in the column are printed.  This demonstrates one has extracted a whole column."
   ]
  },
  {
   "cell_type": "code",
   "execution_count": 5,
   "metadata": {
    "collapsed": false
   },
   "outputs": [
    {
     "name": "stdout",
     "output_type": "stream",
     "text": [
      "0       91948\n",
      "1       91948\n",
      "2       91948\n",
      "3       91948\n",
      "4       91948\n",
      "5       91948\n",
      "6       91948\n",
      "7       91948\n",
      "8       91948\n",
      "9       91948\n",
      "10      91948\n",
      "11      91948\n",
      "12      91948\n",
      "13      91948\n",
      "14      91948\n",
      "15      91948\n",
      "16      91948\n",
      "17      91948\n",
      "18      91948\n",
      "19      91948\n",
      "20      91948\n",
      "21      91948\n",
      "22      91948\n",
      "23      91948\n",
      "24      91948\n",
      "25      91948\n",
      "26      91948\n",
      "27      91948\n",
      "28      91948\n",
      "29      91948\n",
      "        ...  \n",
      "3367    91948\n",
      "3368    91948\n",
      "3369    91948\n",
      "3370    91948\n",
      "3371    91948\n",
      "3372    91948\n",
      "3373    91948\n",
      "3374    91948\n",
      "3375    91948\n",
      "3376    91948\n",
      "3377    91948\n",
      "3378    91948\n",
      "3379    91948\n",
      "3380    91948\n",
      "3381    91948\n",
      "3382    91948\n",
      "3383    91948\n",
      "3384    91948\n",
      "3385    91948\n",
      "3386    91948\n",
      "3387    91948\n",
      "3388    91948\n",
      "3389    91948\n",
      "3390    91948\n",
      "3391    91948\n",
      "3392    91948\n",
      "3393    91948\n",
      "3394    91948\n",
      "3395    91948\n",
      "3396    91948\n",
      "Name: rss_cfg_id, dtype: int64\n"
     ]
    }
   ],
   "source": [
    "print(rss_cfg_id)"
   ]
  },
  {
   "cell_type": "code",
   "execution_count": 6,
   "metadata": {
    "collapsed": false
   },
   "outputs": [
    {
     "name": "stdout",
     "output_type": "stream",
     "text": [
      "3396\n"
     ]
    }
   ],
   "source": [
    "count = 0\n",
    "for item in rss_cfg_id:\n",
    "    if item != 91948:\n",
    "        print item\n",
    "    else:\n",
    "        pass\n",
    "    \n",
    "    count += 1\n",
    "\n",
    "print count - 1"
   ]
  },
  {
   "cell_type": "code",
   "execution_count": 7,
   "metadata": {
    "collapsed": false
   },
   "outputs": [
    {
     "name": "stdout",
     "output_type": "stream",
     "text": [
      "<class 'pandas.core.series.Series'>\n"
     ]
    }
   ],
   "source": [
    "print type(rss_cfg_id)"
   ]
  },
  {
   "cell_type": "code",
   "execution_count": 8,
   "metadata": {
    "collapsed": false
   },
   "outputs": [
    {
     "name": "stdout",
     "output_type": "stream",
     "text": [
      "1\n"
     ]
    }
   ],
   "source": [
    "num = len(set(rss_cfg_id))\n",
    "print num"
   ]
  },
  {
   "cell_type": "markdown",
   "metadata": {},
   "source": [
    "## The function below generalizes what was done above.  For a given column it returns the number of values that are different.  This is to help us distinguish FITS table data from FITS header value pairs."
   ]
  },
  {
   "cell_type": "code",
   "execution_count": 9,
   "metadata": {
    "collapsed": false
   },
   "outputs": [
    {
     "name": "stdout",
     "output_type": "stream",
     "text": [
      "1\n"
     ]
    }
   ],
   "source": [
    "def num_vals(col_header):\n",
    "    numvals = len(set(col_header))\n",
    "    return numvals\n",
    "\n",
    "print num_vals(rss_cfg_id)"
   ]
  },
  {
   "cell_type": "code",
   "execution_count": 10,
   "metadata": {
    "collapsed": false
   },
   "outputs": [],
   "source": [
    "col_headers = list(data_file.columns.values)"
   ]
  },
  {
   "cell_type": "code",
   "execution_count": 11,
   "metadata": {
    "collapsed": false
   },
   "outputs": [
    {
     "name": "stdout",
     "output_type": "stream",
     "text": [
      "[u'rss_cfg_id', u'year', u'doy', u'utc', u'epoch', u'chan', u'sky_freq', u'feed', u'pol', u'nd', u'if_mode', u'if_bw', u'bb_bw', u'fiber_chan', u'xpwr_cfg_id', u'rss_cfg_id.1', u'souce_id', u'cal_src_id', u'year.1', u'doy.1', u'utc.1', u'epoch.1', u'axis', u'chan.1', u'cal_flux', u'xpwr_id', u'xpwr_cfg_id.1', u'year.2', u'doy.2', u'utc.2', u'epoch.2', u'tsys', u'az', u'el', u'ha', u'dec', u'offset']\n"
     ]
    }
   ],
   "source": [
    "print col_headers"
   ]
  },
  {
   "cell_type": "code",
   "execution_count": 89,
   "metadata": {
    "collapsed": false
   },
   "outputs": [
    {
     "name": "stdout",
     "output_type": "stream",
     "text": [
      "1 1       rss_cfg_id\n",
      "2 1       year\n",
      "3 1       doy\n",
      "4 1       utc\n",
      "5 1       epoch\n",
      "6 1       chan\n",
      "7 1       sky_freq\n",
      "8 1       feed\n",
      "9 1       pol\n",
      "10 1       nd\n",
      "11 1       if_mode\n",
      "12 1       if_bw\n",
      "13 1       bb_bw\n",
      "14 1       fiber_chan\n",
      "15 16       xpwr_cfg_id\n",
      "16 1       rss_cfg_id.1\n",
      "17 3       souce_id\n",
      "18 1       cal_src_id\n",
      "19 1       year.1\n",
      "20 1       doy.1\n",
      "21 16       utc.1\n",
      "22 16       epoch.1\n",
      "23 1       axis\n",
      "24 1       chan.1\n",
      "25 1       cal_flux\n",
      "26 3397       xpwr_id\n",
      "27 16       xpwr_cfg_id.1\n",
      "28 1       year.2\n",
      "29 1       doy.2\n",
      "30 3397       utc.2\n",
      "31 3397       epoch.2\n",
      "32 3119       tsys\n",
      "33 3346       az\n",
      "34 3249       el\n",
      "35 3378       ha\n",
      "36 1919       dec\n",
      "37 2704       offset\n"
     ]
    }
   ],
   "source": [
    "cnt = 0\n",
    "for col_num in range(len(col_headers)):\n",
    "    column = col_headers[col_num]\n",
    "    column = data_file[column]\n",
    "    cnt += 1\n",
    "    print cnt, num_vals(column), '     ',col_headers[col_num]\n",
    "    "
   ]
  },
  {
   "cell_type": "code",
   "execution_count": 65,
   "metadata": {
    "collapsed": false
   },
   "outputs": [
    {
     "name": "stdout",
     "output_type": "stream",
     "text": [
      "rss_cfg_id             91948\n",
      "year                    2016\n",
      "doy                      106\n",
      "utc                 18:52:02\n",
      "epoch             1460746322\n",
      "chan                       4\n",
      "sky_freq                8450\n",
      "feed                     hff\n",
      "pol                     liny\n",
      "nd                       nar\n",
      "if_mode                   ul\n",
      "if_bw                    400\n",
      "bb_bw                    bpf\n",
      "fiber_chan          12345678\n",
      "xpwr_cfg_id            26197\n",
      "rss_cfg_id.1           91948\n",
      "souce_id                  42\n",
      "cal_src_id                 0\n",
      "year.1                  2016\n",
      "doy.1                    107\n",
      "utc.1               02:10:42\n",
      "epoch.1           1460772642\n",
      "axis                     dec\n",
      "chan.1                     4\n",
      "cal_flux                   0\n",
      "xpwr_id              3549334\n",
      "xpwr_cfg_id.1          26197\n",
      "year.2                  2016\n",
      "doy.2                    107\n",
      "utc.2               02:20:17\n",
      "epoch.2          1.46077e+09\n",
      "tsys                 41.3885\n",
      "az                   158.266\n",
      "el                   40.3292\n",
      "ha                   343.237\n",
      "dec                 -11.8282\n",
      "offset                0.3458\n",
      "Name: 100, dtype: object\n"
     ]
    }
   ],
   "source": [
    "print data_file.ix[100,0:37]"
   ]
  },
  {
   "cell_type": "code",
   "execution_count": 70,
   "metadata": {
    "collapsed": false
   },
   "outputs": [
    {
     "name": "stdout",
     "output_type": "stream",
     "text": [
      "[0, 1, 2, 3, 4, 5, 6, 7, 8, 9, 10, 11, 12, 13, 14, 15, 16, 17, 18, 19, 20, 21, 22, 23, 24, 25, 26, 27, 28, 29, 30, 31, 32, 33, 34, 35, 36]\n"
     ]
    }
   ],
   "source": [
    "print range(37)"
   ]
  },
  {
   "cell_type": "code",
   "execution_count": 72,
   "metadata": {
    "collapsed": false
   },
   "outputs": [
    {
     "name": "stdout",
     "output_type": "stream",
     "text": [
      "91948       <type 'numpy.int64'>\n",
      "2016       <type 'numpy.int64'>\n",
      "106       <type 'numpy.int64'>\n",
      "18:52:02       <type 'datetime.time'>\n",
      "1460746322       <type 'numpy.int64'>\n",
      "4       <type 'numpy.int64'>\n",
      "8450       <type 'numpy.int64'>\n",
      "hff       <type 'unicode'>\n",
      "liny       <type 'unicode'>\n",
      "nar       <type 'unicode'>\n",
      "ul       <type 'unicode'>\n",
      "400       <type 'numpy.int64'>\n",
      "bpf       <type 'unicode'>\n",
      "12345678       <type 'numpy.int64'>\n",
      "26197       <type 'numpy.int64'>\n",
      "91948       <type 'numpy.int64'>\n",
      "42       <type 'numpy.int64'>\n",
      "0       <type 'numpy.int64'>\n",
      "2016       <type 'numpy.int64'>\n",
      "107       <type 'numpy.int64'>\n",
      "02:10:42       <type 'datetime.time'>\n",
      "1460772642       <type 'numpy.int64'>\n",
      "dec       <type 'unicode'>\n",
      "4       <type 'numpy.int64'>\n",
      "0       <type 'numpy.int64'>\n",
      "3549334       <type 'numpy.int64'>\n",
      "26197       <type 'numpy.int64'>\n",
      "2016       <type 'numpy.int64'>\n",
      "107       <type 'numpy.int64'>\n",
      "02:20:17       <type 'datetime.time'>\n",
      "1460773217.14       <type 'numpy.float64'>\n",
      "41.3885       <type 'numpy.float64'>\n",
      "158.2661       <type 'numpy.float64'>\n",
      "40.3292       <type 'numpy.float64'>\n",
      "343.2368       <type 'numpy.float64'>\n",
      "-11.8282       <type 'numpy.float64'>\n",
      "0.3458       <type 'numpy.float64'>\n"
     ]
    }
   ],
   "source": [
    "for num in range(37):\n",
    "    var = data_file.ix[100, num]\n",
    "    print var,'     ',type(var)"
   ]
  },
  {
   "cell_type": "code",
   "execution_count": 136,
   "metadata": {
    "collapsed": false
   },
   "outputs": [],
   "source": [
    "frmts = ['J','J','J','10A','J','J','J','5A','5A','5A','5A','J','5A','J','J','J','J','J','J','J','10A','J','5A','J','J','J','J','J','J','10A','E','E','E','E','E','E','E']"
   ]
  },
  {
   "cell_type": "markdown",
   "metadata": {},
   "source": [
    "## The 2 cells below were an experiment.  Don't use in code."
   ]
  },
  {
   "cell_type": "code",
   "execution_count": 14,
   "metadata": {
    "collapsed": true
   },
   "outputs": [],
   "source": [
    "def splitDataFrameIntoSmaller(data_file, chunkSize = 10000): \n",
    "    listOfDf = list()\n",
    "    numberChunks = len(data_file) // chunkSize + 1\n",
    "    for i in range(numberChunks):\n",
    "        listOfDf.append(data_file[i*chunkSize:(i+1)*chunkSize])\n",
    "    return listOfDf"
   ]
  },
  {
   "cell_type": "code",
   "execution_count": 15,
   "metadata": {
    "collapsed": false
   },
   "outputs": [
    {
     "name": "stdout",
     "output_type": "stream",
     "text": [
      "7\n"
     ]
    }
   ],
   "source": [
    "files = splitDataFrameIntoSmaller(data_file, 500)\n",
    "print len(files)"
   ]
  },
  {
   "cell_type": "code",
   "execution_count": 16,
   "metadata": {
    "collapsed": false
   },
   "outputs": [],
   "source": [
    "source_id = data_file['souce_id']"
   ]
  },
  {
   "cell_type": "code",
   "execution_count": 17,
   "metadata": {
    "collapsed": false
   },
   "outputs": [],
   "source": [
    "# print source_id"
   ]
  },
  {
   "cell_type": "code",
   "execution_count": 18,
   "metadata": {
    "collapsed": false
   },
   "outputs": [
    {
     "name": "stdout",
     "output_type": "stream",
     "text": [
      "42\n",
      "328\n",
      "42\n",
      "338\n",
      "42\n"
     ]
    }
   ],
   "source": [
    "source = source_id[0]\n",
    "print source\n",
    "for id in source_id:\n",
    "    if source != id:\n",
    "        print id\n",
    "    source = id\n",
    "    \n"
   ]
  },
  {
   "cell_type": "code",
   "execution_count": 19,
   "metadata": {
    "collapsed": false
   },
   "outputs": [],
   "source": [
    "#count = 0\n",
    "#for id in source_id:\n",
    "#    print count, id\n",
    "#    count += 1\n",
    "    \n"
   ]
  },
  {
   "cell_type": "code",
   "execution_count": 20,
   "metadata": {
    "collapsed": false
   },
   "outputs": [],
   "source": [
    "#print source_id[0:1147]"
   ]
  },
  {
   "cell_type": "code",
   "execution_count": 21,
   "metadata": {
    "collapsed": false
   },
   "outputs": [],
   "source": [
    "#print source_id[1147:2080]"
   ]
  },
  {
   "cell_type": "code",
   "execution_count": 22,
   "metadata": {
    "collapsed": true
   },
   "outputs": [],
   "source": [
    "object42_1 = source_id[0:1147]\n",
    "object328 = source_id[1147:2080]\n",
    "object42_2 = source_id[2080:2496]\n",
    "object338 = source_id[2496:3297]\n",
    "object42_3 = source_id[3297:3397]"
   ]
  },
  {
   "cell_type": "code",
   "execution_count": 23,
   "metadata": {
    "collapsed": false
   },
   "outputs": [
    {
     "name": "stdout",
     "output_type": "stream",
     "text": [
      "1147 933 416 801 100\n"
     ]
    }
   ],
   "source": [
    "print len(object42_1), len(object328), len(object42_2), len(object338), len(object42_3)"
   ]
  },
  {
   "cell_type": "code",
   "execution_count": 24,
   "metadata": {
    "collapsed": true
   },
   "outputs": [],
   "source": [
    "polarization = data_file['pol']"
   ]
  },
  {
   "cell_type": "code",
   "execution_count": 25,
   "metadata": {
    "collapsed": false
   },
   "outputs": [
    {
     "name": "stdout",
     "output_type": "stream",
     "text": [
      "liny\n"
     ]
    }
   ],
   "source": [
    "polar = polarization[0]\n",
    "print polar\n",
    "for pol in polarization:\n",
    "    if polar != pol:\n",
    "        print pol\n",
    "    polar = pol"
   ]
  },
  {
   "cell_type": "code",
   "execution_count": 26,
   "metadata": {
    "collapsed": true
   },
   "outputs": [],
   "source": [
    "tsys = data_file['tsys']"
   ]
  },
  {
   "cell_type": "code",
   "execution_count": 27,
   "metadata": {
    "collapsed": false
   },
   "outputs": [
    {
     "data": {
      "text/plain": [
       "[<matplotlib.lines.Line2D at 0x7f93308c6e90>]"
      ]
     },
     "execution_count": 27,
     "metadata": {},
     "output_type": "execute_result"
    },
    {
     "data": {
      "image/png": "[encoded data removed]",
      "text/plain": [
       "<matplotlib.figure.Figure at 0x7f93309e0610>"
      ]
     },
     "metadata": {},
     "output_type": "display_data"
    }
   ],
   "source": [
    "plt.plot(tsys[0:1147])"
   ]
  },
  {
   "cell_type": "code",
   "execution_count": 28,
   "metadata": {
    "collapsed": false
   },
   "outputs": [
    {
     "data": {
      "text/plain": [
       "[<matplotlib.lines.Line2D at 0x7f932dff7d50>]"
      ]
     },
     "execution_count": 28,
     "metadata": {},
     "output_type": "execute_result"
    },
    {
     "data": {
      "image/png": "[encoded data removed]",
      "text/plain": [
       "<matplotlib.figure.Figure at 0x7f9330983d10>"
      ]
     },
     "metadata": {},
     "output_type": "display_data"
    }
   ],
   "source": [
    "plt.plot(tsys[1147:2080])"
   ]
  },
  {
   "cell_type": "code",
   "execution_count": 29,
   "metadata": {
    "collapsed": false
   },
   "outputs": [
    {
     "data": {
      "text/plain": [
       "[<matplotlib.lines.Line2D at 0x7f932df39650>]"
      ]
     },
     "execution_count": 29,
     "metadata": {},
     "output_type": "execute_result"
    },
    {
     "data": {
      "image/png": "[encoded data removed]",
      "text/plain": [
       "<matplotlib.figure.Figure at 0x7f93309b76d0>"
      ]
     },
     "metadata": {},
     "output_type": "display_data"
    }
   ],
   "source": [
    "plt.plot(tsys[2080:2496])"
   ]
  },
  {
   "cell_type": "code",
   "execution_count": 30,
   "metadata": {
    "collapsed": false
   },
   "outputs": [
    {
     "data": {
      "text/plain": [
       "[<matplotlib.lines.Line2D at 0x7f932de7bfd0>]"
      ]
     },
     "execution_count": 30,
     "metadata": {},
     "output_type": "execute_result"
    },
    {
     "data": {
      "image/png": "[encoded data removed]",
      "text/plain": [
       "<matplotlib.figure.Figure at 0x7f932df01ed0>"
      ]
     },
     "metadata": {},
     "output_type": "display_data"
    }
   ],
   "source": [
    "plt.plot(tsys[2496:3297])"
   ]
  },
  {
   "cell_type": "code",
   "execution_count": 31,
   "metadata": {
    "collapsed": false
   },
   "outputs": [
    {
     "data": {
      "text/plain": [
       "[<matplotlib.lines.Line2D at 0x7f932ddcd190>]"
      ]
     },
     "execution_count": 31,
     "metadata": {},
     "output_type": "execute_result"
    },
    {
     "data": {
      "image/png": "[encoded data removed]",
      "text/plain": [
       "<matplotlib.figure.Figure at 0x7f932de94050>"
      ]
     },
     "metadata": {},
     "output_type": "display_data"
    }
   ],
   "source": [
    "plt.plot(tsys[3297:3397])"
   ]
  },
  {
   "cell_type": "code",
   "execution_count": 32,
   "metadata": {
    "collapsed": false
   },
   "outputs": [],
   "source": [
    "utc_1 = data_file['utc.1']\n",
    "utc_2 = data_file['utc.2']"
   ]
  },
  {
   "cell_type": "code",
   "execution_count": 33,
   "metadata": {
    "collapsed": false
   },
   "outputs": [
    {
     "data": {
      "text/plain": [
       "[<matplotlib.lines.Line2D at 0x7f932dcfafd0>]"
      ]
     },
     "execution_count": 33,
     "metadata": {},
     "output_type": "execute_result"
    },
    {
     "data": {
      "image/png": "[encoded data removed]",
      "text/plain": [
       "<matplotlib.figure.Figure at 0x7f932de9fb90>"
      ]
     },
     "metadata": {},
     "output_type": "display_data"
    }
   ],
   "source": [
    "plt.plot(utc_1)"
   ]
  },
  {
   "cell_type": "code",
   "execution_count": 34,
   "metadata": {
    "collapsed": false
   },
   "outputs": [
    {
     "data": {
      "text/plain": [
       "[<matplotlib.lines.Line2D at 0x7f932dc39d10>]"
      ]
     },
     "execution_count": 34,
     "metadata": {},
     "output_type": "execute_result"
    },
    {
     "data": {
      "image/png": "[encoded data removed]",
      "text/plain": [
       "<matplotlib.figure.Figure at 0x7f9336fc5f90>"
      ]
     },
     "metadata": {},
     "output_type": "display_data"
    }
   ],
   "source": [
    "plt.plot(utc_2)"
   ]
  },
  {
   "cell_type": "code",
   "execution_count": 35,
   "metadata": {
    "collapsed": false
   },
   "outputs": [],
   "source": [
    "def utc2secs(utc):\n",
    "    utcsecs = []\n",
    "    for time in utc:\n",
    "        time = str(time)\n",
    "        hrs = int(time[0:2])\n",
    "        min = int(time[3:5])\n",
    "        sec = int(time[6:8])\n",
    "        utcsecs.append(hrs*3600 + min*60 + sec)\n",
    "    return utcsecs\n",
    "\n",
    "utc1 = utc2secs(utc_1)\n",
    "utc2 = utc2secs(utc_2)\n",
    "utcdiff = np.subtract(utc2, utc1)"
   ]
  },
  {
   "cell_type": "raw",
   "metadata": {},
   "source": [
    "print utddiff"
   ]
  },
  {
   "cell_type": "code",
   "execution_count": 36,
   "metadata": {
    "collapsed": false
   },
   "outputs": [
    {
     "name": "stdout",
     "output_type": "stream",
     "text": [
      "[ 30  31  32 ..., 127 128 129]\n"
     ]
    }
   ],
   "source": [
    "print utcdiff"
   ]
  },
  {
   "cell_type": "code",
   "execution_count": 37,
   "metadata": {
    "collapsed": false
   },
   "outputs": [
    {
     "data": {
      "text/plain": [
       "[<matplotlib.lines.Line2D at 0x7f932db77450>]"
      ]
     },
     "execution_count": 37,
     "metadata": {},
     "output_type": "execute_result"
    },
    {
     "data": {
      "image/png": "[encoded data removed]",
      "text/plain": [
       "<matplotlib.figure.Figure at 0x7f932de9f050>"
      ]
     },
     "metadata": {},
     "output_type": "display_data"
    }
   ],
   "source": [
    "plt.plot(utcdiff)"
   ]
  },
  {
   "cell_type": "markdown",
   "metadata": {},
   "source": [
    "## Find index of points in the array that are the starting points for each scan.  Use to extract scans for each object."
   ]
  },
  {
   "cell_type": "code",
   "execution_count": 38,
   "metadata": {
    "collapsed": false
   },
   "outputs": [
    {
     "name": "stdout",
     "output_type": "stream",
     "text": [
      "[0, 100, 213, 330, 447, 564, 680, 796, 913, 1030, 1147, 1264, 1381, 1498, 1615, 1730, 1847, 1963, 2080, 2196, 2296, 2396, 2496, 2596, 2696, 2796, 2895, 2994, 3094, 3195, 3296]\n"
     ]
    }
   ],
   "source": [
    "cnt = 0\n",
    "btime = utcdiff[0]\n",
    "timepoints = [cnt]\n",
    "for dtime in utcdiff:\n",
    "    if dtime - btime > 1:\n",
    "        timepoints.append(cnt)\n",
    "        btime = dtime\n",
    "    elif dtime - btime < 0:\n",
    "        timepoints.append(cnt)\n",
    "        btime = dtime\n",
    "    else:\n",
    "        btime += 1\n",
    "    cnt += 1\n",
    "\n",
    "print timepoints"
   ]
  },
  {
   "cell_type": "code",
   "execution_count": 39,
   "metadata": {
    "collapsed": false
   },
   "outputs": [
    {
     "name": "stdout",
     "output_type": "stream",
     "text": [
      "3397 3397 3397\n"
     ]
    }
   ],
   "source": [
    "print len(utc1), len(utc2), len(utcdiff)"
   ]
  },
  {
   "cell_type": "markdown",
   "metadata": {},
   "source": [
    "## utcend is the total number of data points that were scanned for all objects.  (utcend - 1) is the index of the last data point of the last scan."
   ]
  },
  {
   "cell_type": "code",
   "execution_count": 40,
   "metadata": {
    "collapsed": true
   },
   "outputs": [],
   "source": [
    "utcend = len(utcdiff)"
   ]
  },
  {
   "cell_type": "code",
   "execution_count": 41,
   "metadata": {
    "collapsed": false
   },
   "outputs": [
    {
     "name": "stdout",
     "output_type": "stream",
     "text": [
      "3397\n"
     ]
    }
   ],
   "source": [
    "print utcend"
   ]
  },
  {
   "cell_type": "code",
   "execution_count": 42,
   "metadata": {
    "collapsed": false
   },
   "outputs": [
    {
     "name": "stdout",
     "output_type": "stream",
     "text": [
      "129\n"
     ]
    }
   ],
   "source": [
    "print utcdiff[utcend-1]"
   ]
  },
  {
   "cell_type": "code",
   "execution_count": 43,
   "metadata": {
    "collapsed": false
   },
   "outputs": [
    {
     "name": "stdout",
     "output_type": "stream",
     "text": [
      "129 575\n"
     ]
    }
   ],
   "source": [
    "print utcdiff[99], utcdiff[100]"
   ]
  },
  {
   "cell_type": "code",
   "execution_count": 44,
   "metadata": {
    "collapsed": false
   },
   "outputs": [
    {
     "name": "stdout",
     "output_type": "stream",
     "text": [
      "3397\n"
     ]
    }
   ],
   "source": [
    "print len(tsys)"
   ]
  },
  {
   "cell_type": "code",
   "execution_count": 45,
   "metadata": {
    "collapsed": false
   },
   "outputs": [
    {
     "data": {
      "text/plain": [
       "[<matplotlib.lines.Line2D at 0x7f932daab8d0>]"
      ]
     },
     "execution_count": 45,
     "metadata": {},
     "output_type": "execute_result"
    },
    {
     "data": {
      "image/png": "[encoded data removed]",
      "text/plain": [
       "<matplotlib.figure.Figure at 0x7f932db91c50>"
      ]
     },
     "metadata": {},
     "output_type": "display_data"
    }
   ],
   "source": [
    "plt.plot(tsys)"
   ]
  },
  {
   "cell_type": "markdown",
   "metadata": {},
   "source": [
    "## Notes going forward:"
   ]
  },
  {
   "cell_type": "markdown",
   "metadata": {},
   "source": [
    "### We now know how many scans there are and where the beginning and end indices of each scan in the table are.  What we need to do then is to extract the rows in the table corresponding to each scan and save it as a seperate Excel or csv file.  We don't really need to do this but let's do this just in case we need the scan in the original format (for whatever reason).  These seperate files are what we will read in and convert to fits format.  Later we can refactor the code to avoid doing this if required."
   ]
  },
  {
   "cell_type": "markdown",
   "metadata": {},
   "source": [
    "## First let's see if we can extract a sub-table for 1 scan from the master pandas table in memory.  Then let's write this out as an xlsx file using the ---*.to_excel('filename.xlsx')* method "
   ]
  },
  {
   "cell_type": "code",
   "execution_count": 46,
   "metadata": {
    "collapsed": false
   },
   "outputs": [],
   "source": [
    "bgnscan = timepoints[0]\n",
    "endscan = timepoints[1]"
   ]
  },
  {
   "cell_type": "code",
   "execution_count": 47,
   "metadata": {
    "collapsed": false
   },
   "outputs": [
    {
     "name": "stdout",
     "output_type": "stream",
     "text": [
      "0 100\n"
     ]
    }
   ],
   "source": [
    "print bgnscan, endscan"
   ]
  },
  {
   "cell_type": "code",
   "execution_count": 48,
   "metadata": {
    "collapsed": false
   },
   "outputs": [
    {
     "name": "stdout",
     "output_type": "stream",
     "text": [
      "129 575 576\n"
     ]
    }
   ],
   "source": [
    "print utcdiff[99],utcdiff[100],utcdiff[101]"
   ]
  },
  {
   "cell_type": "code",
   "execution_count": 49,
   "metadata": {
    "collapsed": false
   },
   "outputs": [],
   "source": [
    "df_scan01 = data_file[0:100]"
   ]
  },
  {
   "cell_type": "code",
   "execution_count": 50,
   "metadata": {
    "collapsed": false
   },
   "outputs": [
    {
     "name": "stdout",
     "output_type": "stream",
     "text": [
      "    rss_cfg_id  year  doy       utc       epoch  chan  sky_freq feed   pol  \\\n",
      "0        91948  2016  106  18:52:02  1460746322     4      8450  hff  liny   \n",
      "1        91948  2016  106  18:52:02  1460746322     4      8450  hff  liny   \n",
      "2        91948  2016  106  18:52:02  1460746322     4      8450  hff  liny   \n",
      "3        91948  2016  106  18:52:02  1460746322     4      8450  hff  liny   \n",
      "4        91948  2016  106  18:52:02  1460746322     4      8450  hff  liny   \n",
      "5        91948  2016  106  18:52:02  1460746322     4      8450  hff  liny   \n",
      "6        91948  2016  106  18:52:02  1460746322     4      8450  hff  liny   \n",
      "7        91948  2016  106  18:52:02  1460746322     4      8450  hff  liny   \n",
      "8        91948  2016  106  18:52:02  1460746322     4      8450  hff  liny   \n",
      "9        91948  2016  106  18:52:02  1460746322     4      8450  hff  liny   \n",
      "10       91948  2016  106  18:52:02  1460746322     4      8450  hff  liny   \n",
      "11       91948  2016  106  18:52:02  1460746322     4      8450  hff  liny   \n",
      "12       91948  2016  106  18:52:02  1460746322     4      8450  hff  liny   \n",
      "13       91948  2016  106  18:52:02  1460746322     4      8450  hff  liny   \n",
      "14       91948  2016  106  18:52:02  1460746322     4      8450  hff  liny   \n",
      "15       91948  2016  106  18:52:02  1460746322     4      8450  hff  liny   \n",
      "16       91948  2016  106  18:52:02  1460746322     4      8450  hff  liny   \n",
      "17       91948  2016  106  18:52:02  1460746322     4      8450  hff  liny   \n",
      "18       91948  2016  106  18:52:02  1460746322     4      8450  hff  liny   \n",
      "19       91948  2016  106  18:52:02  1460746322     4      8450  hff  liny   \n",
      "20       91948  2016  106  18:52:02  1460746322     4      8450  hff  liny   \n",
      "21       91948  2016  106  18:52:02  1460746322     4      8450  hff  liny   \n",
      "22       91948  2016  106  18:52:02  1460746322     4      8450  hff  liny   \n",
      "23       91948  2016  106  18:52:02  1460746322     4      8450  hff  liny   \n",
      "24       91948  2016  106  18:52:02  1460746322     4      8450  hff  liny   \n",
      "25       91948  2016  106  18:52:02  1460746322     4      8450  hff  liny   \n",
      "26       91948  2016  106  18:52:02  1460746322     4      8450  hff  liny   \n",
      "27       91948  2016  106  18:52:02  1460746322     4      8450  hff  liny   \n",
      "28       91948  2016  106  18:52:02  1460746322     4      8450  hff  liny   \n",
      "29       91948  2016  106  18:52:02  1460746322     4      8450  hff  liny   \n",
      "..         ...   ...  ...       ...         ...   ...       ...  ...   ...   \n",
      "70       91948  2016  106  18:52:02  1460746322     4      8450  hff  liny   \n",
      "71       91948  2016  106  18:52:02  1460746322     4      8450  hff  liny   \n",
      "72       91948  2016  106  18:52:02  1460746322     4      8450  hff  liny   \n",
      "73       91948  2016  106  18:52:02  1460746322     4      8450  hff  liny   \n",
      "74       91948  2016  106  18:52:02  1460746322     4      8450  hff  liny   \n",
      "75       91948  2016  106  18:52:02  1460746322     4      8450  hff  liny   \n",
      "76       91948  2016  106  18:52:02  1460746322     4      8450  hff  liny   \n",
      "77       91948  2016  106  18:52:02  1460746322     4      8450  hff  liny   \n",
      "78       91948  2016  106  18:52:02  1460746322     4      8450  hff  liny   \n",
      "79       91948  2016  106  18:52:02  1460746322     4      8450  hff  liny   \n",
      "80       91948  2016  106  18:52:02  1460746322     4      8450  hff  liny   \n",
      "81       91948  2016  106  18:52:02  1460746322     4      8450  hff  liny   \n",
      "82       91948  2016  106  18:52:02  1460746322     4      8450  hff  liny   \n",
      "83       91948  2016  106  18:52:02  1460746322     4      8450  hff  liny   \n",
      "84       91948  2016  106  18:52:02  1460746322     4      8450  hff  liny   \n",
      "85       91948  2016  106  18:52:02  1460746322     4      8450  hff  liny   \n",
      "86       91948  2016  106  18:52:02  1460746322     4      8450  hff  liny   \n",
      "87       91948  2016  106  18:52:02  1460746322     4      8450  hff  liny   \n",
      "88       91948  2016  106  18:52:02  1460746322     4      8450  hff  liny   \n",
      "89       91948  2016  106  18:52:02  1460746322     4      8450  hff  liny   \n",
      "90       91948  2016  106  18:52:02  1460746322     4      8450  hff  liny   \n",
      "91       91948  2016  106  18:52:02  1460746322     4      8450  hff  liny   \n",
      "92       91948  2016  106  18:52:02  1460746322     4      8450  hff  liny   \n",
      "93       91948  2016  106  18:52:02  1460746322     4      8450  hff  liny   \n",
      "94       91948  2016  106  18:52:02  1460746322     4      8450  hff  liny   \n",
      "95       91948  2016  106  18:52:02  1460746322     4      8450  hff  liny   \n",
      "96       91948  2016  106  18:52:02  1460746322     4      8450  hff  liny   \n",
      "97       91948  2016  106  18:52:02  1460746322     4      8450  hff  liny   \n",
      "98       91948  2016  106  18:52:02  1460746322     4      8450  hff  liny   \n",
      "99       91948  2016  106  18:52:02  1460746322     4      8450  hff  liny   \n",
      "\n",
      "     nd   ...   year.2  doy.2     utc.2       epoch.2     tsys        az  \\\n",
      "0   nar   ...     2016    107  02:11:12  1.460773e+09  41.6857  155.2595   \n",
      "1   nar   ...     2016    107  02:11:13  1.460773e+09  41.6920  155.2700   \n",
      "2   nar   ...     2016    107  02:11:14  1.460773e+09  41.6755  155.2885   \n",
      "3   nar   ...     2016    107  02:11:15  1.460773e+09  41.6840  155.3040   \n",
      "4   nar   ...     2016    107  02:11:16  1.460773e+09  41.6795  155.3171   \n",
      "5   nar   ...     2016    107  02:11:17  1.460773e+09  41.6748  155.3287   \n",
      "6   nar   ...     2016    107  02:11:18  1.460773e+09  41.6802  155.3427   \n",
      "7   nar   ...     2016    107  02:11:19  1.460773e+09  41.6675  155.3547   \n",
      "8   nar   ...     2016    107  02:11:20  1.460773e+09  41.6711  155.3696   \n",
      "9   nar   ...     2016    107  02:11:21  1.460773e+09  41.6756  155.3783   \n",
      "10  nar   ...     2016    107  02:11:22  1.460773e+09  41.6508  155.3961   \n",
      "11  nar   ...     2016    107  02:11:23  1.460773e+09  41.6351  155.4093   \n",
      "12  nar   ...     2016    107  02:11:24  1.460773e+09  41.6203  155.4218   \n",
      "13  nar   ...     2016    107  02:11:25  1.460773e+09  41.6147  155.4375   \n",
      "14  nar   ...     2016    107  02:11:26  1.460773e+09  41.6212  155.4478   \n",
      "15  nar   ...     2016    107  02:11:27  1.460773e+09  41.6167  155.4595   \n",
      "16  nar   ...     2016    107  02:11:28  1.460773e+09  41.6418  155.4756   \n",
      "17  nar   ...     2016    107  02:11:29  1.460773e+09  41.6254  155.4887   \n",
      "18  nar   ...     2016    107  02:11:30  1.460773e+09  41.6366  155.5029   \n",
      "19  nar   ...     2016    107  02:11:31  1.460773e+09  41.6386  155.5178   \n",
      "20  nar   ...     2016    107  02:11:32  1.460773e+09  41.6152  155.5289   \n",
      "21  nar   ...     2016    107  02:11:33  1.460773e+09  41.6304  155.5414   \n",
      "22  nar   ...     2016    107  02:11:34  1.460773e+09  41.6100  155.5553   \n",
      "23  nar   ...     2016    107  02:11:35  1.460773e+09  41.6054  155.5698   \n",
      "24  nar   ...     2016    107  02:11:36  1.460773e+09  41.6122  155.5833   \n",
      "25  nar   ...     2016    107  02:11:37  1.460773e+09  41.6201  155.5963   \n",
      "26  nar   ...     2016    107  02:11:38  1.460773e+09  41.6462  155.6107   \n",
      "27  nar   ...     2016    107  02:11:39  1.460773e+09  41.6229  155.6232   \n",
      "28  nar   ...     2016    107  02:11:40  1.460773e+09  41.6326  155.6341   \n",
      "29  nar   ...     2016    107  02:11:41  1.460773e+09  41.6007  155.6540   \n",
      "..  ...   ...      ...    ...       ...           ...      ...       ...   \n",
      "70  nar   ...     2016    107  02:12:22  1.460773e+09  41.6383  156.2028   \n",
      "71  nar   ...     2016    107  02:12:23  1.460773e+09  41.6354  156.2167   \n",
      "72  nar   ...     2016    107  02:12:24  1.460773e+09  41.6315  156.2299   \n",
      "73  nar   ...     2016    107  02:12:25  1.460773e+09  41.6252  156.2438   \n",
      "74  nar   ...     2016    107  02:12:26  1.460773e+09  41.6471  156.2577   \n",
      "75  nar   ...     2016    107  02:12:27  1.460773e+09  41.5938  156.2693   \n",
      "76  nar   ...     2016    107  02:12:28  1.460773e+09  41.5760  156.2855   \n",
      "77  nar   ...     2016    107  02:12:29  1.460773e+09  41.5824  156.2946   \n",
      "78  nar   ...     2016    107  02:12:30  1.460773e+09  41.6017  156.3114   \n",
      "79  nar   ...     2016    107  02:12:31  1.460773e+09  41.6112  156.3260   \n",
      "80  nar   ...     2016    107  02:12:32  1.460773e+09  41.6203  156.3346   \n",
      "81  nar   ...     2016    107  02:12:33  1.460773e+09  41.6048  156.3467   \n",
      "82  nar   ...     2016    107  02:12:34  1.460773e+09  41.6065  156.3638   \n",
      "83  nar   ...     2016    107  02:12:35  1.460773e+09  41.5627  156.3792   \n",
      "84  nar   ...     2016    107  02:12:36  1.460773e+09  41.5898  156.3902   \n",
      "85  nar   ...     2016    107  02:12:37  1.460773e+09  41.6007  156.4092   \n",
      "86  nar   ...     2016    107  02:12:38  1.460773e+09  41.6316  156.4199   \n",
      "87  nar   ...     2016    107  02:12:39  1.460773e+09  41.6050  156.4342   \n",
      "88  nar   ...     2016    107  02:12:40  1.460773e+09  41.5975  156.4449   \n",
      "89  nar   ...     2016    107  02:12:41  1.460773e+09  41.5928  156.4611   \n",
      "90  nar   ...     2016    107  02:12:42  1.460773e+09  41.5818  156.4708   \n",
      "91  nar   ...     2016    107  02:12:43  1.460773e+09  41.5857  156.4870   \n",
      "92  nar   ...     2016    107  02:12:44  1.460773e+09  41.5918  156.5008   \n",
      "93  nar   ...     2016    107  02:12:45  1.460773e+09  41.6077  156.5141   \n",
      "94  nar   ...     2016    107  02:12:46  1.460773e+09  41.5979  156.5272   \n",
      "95  nar   ...     2016    107  02:12:47  1.460773e+09  41.5859  156.5396   \n",
      "96  nar   ...     2016    107  02:12:48  1.460773e+09  41.6016  156.5533   \n",
      "97  nar   ...     2016    107  02:12:49  1.460773e+09  41.6059  156.5681   \n",
      "98  nar   ...     2016    107  02:12:50  1.460773e+09  41.5891  156.5801   \n",
      "99  nar   ...     2016    107  02:12:51  1.460773e+09  41.5946  156.5943   \n",
      "\n",
      "         el        ha      dec  offset  \n",
      "0   39.1578  340.6110 -12.1513 -0.3434  \n",
      "1   39.1618  340.6202 -12.1504 -0.3385  \n",
      "2   39.1680  340.6362 -12.1497 -0.3270  \n",
      "3   39.1712  340.6489 -12.1508 -0.3187  \n",
      "4   39.1713  340.6587 -12.1543 -0.3132  \n",
      "5   39.1740  340.6683 -12.1549 -0.3079  \n",
      "6   39.1786  340.6803 -12.1543 -0.3002  \n",
      "7   39.1842  340.6912 -12.1523 -0.2936  \n",
      "8   39.1878  340.7036 -12.1530 -0.2857  \n",
      "9   39.1920  340.7115 -12.1514 -0.2820  \n",
      "10  39.1945  340.7256 -12.1538 -0.2723  \n",
      "11  39.1966  340.7362 -12.1554 -0.2659  \n",
      "12  39.2040  340.7481 -12.1518 -0.2585  \n",
      "13  39.2058  340.7604 -12.1545 -0.2505  \n",
      "14  39.2116  340.7701 -12.1517 -0.2451  \n",
      "15  39.2170  340.7808 -12.1499 -0.2388  \n",
      "16  39.2197  340.7937 -12.1517 -0.2302  \n",
      "17  39.2202  340.8036 -12.1547 -0.2246  \n",
      "18  39.2240  340.8155 -12.1550 -0.2170  \n",
      "19  39.2296  340.8285 -12.1537 -0.2084  \n",
      "20  39.2337  340.8383 -12.1528 -0.2030  \n",
      "21  39.2343  340.8478 -12.1556 -0.1977  \n",
      "22  39.2407  340.8604 -12.1533 -0.1896  \n",
      "23  39.2514  340.8749 -12.1472 -0.1794  \n",
      "24  39.2525  340.8853 -12.1497 -0.1733  \n",
      "25  39.2548  340.8958 -12.1511 -0.1672  \n",
      "26  39.2612  340.9088 -12.1489 -0.1585  \n",
      "27  39.2598  340.9175 -12.1536 -0.1540  \n",
      "28  39.2677  340.9285 -12.1490 -0.1474  \n",
      "29  39.2720  340.9448 -12.1503 -0.1356  \n",
      "..      ...       ...      ...     ...  \n",
      "70  39.4244  341.4061 -12.1517  0.1480  \n",
      "71  39.4294  341.4182 -12.1506  0.1556  \n",
      "72  39.4314  341.4287 -12.1521  0.1619  \n",
      "73  39.4362  341.4406 -12.1512  0.1695  \n",
      "74  39.4377  341.4515 -12.1534  0.1760  \n",
      "75  39.4414  341.4614 -12.1530  0.1816  \n",
      "76  39.4451  341.4748 -12.1537  0.1906  \n",
      "77  39.4511  341.4836 -12.1504  0.1951  \n",
      "78  39.4574  341.4982 -12.1488  0.2054  \n",
      "79  39.4573  341.5091 -12.1527  0.2119  \n",
      "80  39.4579  341.5157 -12.1543  0.2143  \n",
      "81  39.4565  341.5242 -12.1588  0.2185  \n",
      "82  39.4700  341.5416 -12.1505  0.2314  \n",
      "83  39.4688  341.5526 -12.1556  0.2381  \n",
      "84  39.4804  341.5648 -12.1475  0.2459  \n",
      "85  39.4814  341.5792 -12.1515  0.2560  \n",
      "86  39.4854  341.5886 -12.1504  0.2610  \n",
      "87  39.4845  341.5989 -12.1550  0.2670  \n",
      "88  39.4884  341.6082 -12.1541  0.2720  \n",
      "89  39.4948  341.6225 -12.1523  0.2819  \n",
      "90  39.4949  341.6297 -12.1547  0.2849  \n",
      "91  39.5017  341.6441 -12.1524  0.2949  \n",
      "92  39.5052  341.6555 -12.1526  0.3019  \n",
      "93  39.5047  341.6653 -12.1565  0.3074  \n",
      "94  39.5160  341.6788 -12.1492  0.3166  \n",
      "95  39.5196  341.6893 -12.1490  0.3227  \n",
      "96  39.5195  341.6995 -12.1527  0.3286  \n",
      "97  39.5216  341.7112 -12.1544  0.3360  \n",
      "98  39.5243  341.7210 -12.1550  0.3415  \n",
      "99  39.5308  341.7339 -12.1524  0.3499  \n",
      "\n",
      "[100 rows x 37 columns]\n"
     ]
    }
   ],
   "source": [
    "print df_scan01"
   ]
  },
  {
   "cell_type": "markdown",
   "metadata": {},
   "source": [
    "### Okay cool!  That seems to work.  Now write a function to split the table into individual scans and write each scan out as an xlsx file.  Actually at this point users can read in these files and write code to analyze and plot the data.  But it will be nice to have it in fits format as well but we are running out of time."
   ]
  },
  {
   "cell_type": "code",
   "execution_count": 51,
   "metadata": {
    "collapsed": false
   },
   "outputs": [
    {
     "name": "stdout",
     "output_type": "stream",
     "text": [
      "0 0 100\n",
      "1 100 213\n",
      "2 213 330\n",
      "3 330 447\n",
      "4 447 564\n",
      "5 564 680\n",
      "6 680 796\n",
      "7 796 913\n",
      "8 913 1030\n",
      "9 1030 1147\n",
      "10 1147 1264\n",
      "11 1264 1381\n",
      "12 1381 1498\n",
      "13 1498 1615\n",
      "14 1615 1730\n",
      "15 1730 1847\n",
      "16 1847 1963\n",
      "17 1963 2080\n",
      "18 2080 2196\n",
      "19 2196 2296\n",
      "20 2296 2396\n",
      "21 2396 2496\n",
      "22 2496 2596\n",
      "23 2596 2696\n",
      "24 2696 2796\n",
      "25 2796 2895\n",
      "26 2895 2994\n",
      "27 2994 3094\n",
      "28 3094 3195\n",
      "29 3195 3296\n",
      "30 3296 3397\n"
     ]
    }
   ],
   "source": [
    "for index in range(len(timepoints)+1):\n",
    "    if index < len(timepoints) - 1:\n",
    "        print index,timepoints[index],timepoints[index+1]\n",
    "    elif index == len(timepoints):\n",
    "        print index - 1, timepoints[index-1], len(data_file)"
   ]
  },
  {
   "cell_type": "code",
   "execution_count": 52,
   "metadata": {
    "collapsed": false
   },
   "outputs": [
    {
     "name": "stdout",
     "output_type": "stream",
     "text": [
      "[0, 100, 213, 330, 447, 564, 680, 796, 913, 1030, 1147, 1264, 1381, 1498, 1615, 1730, 1847, 1963, 2080, 2196, 2296, 2396, 2496, 2596, 2696, 2796, 2895, 2994, 3094, 3195, 3296]\n"
     ]
    }
   ],
   "source": [
    "print timepoints"
   ]
  },
  {
   "cell_type": "code",
   "execution_count": 53,
   "metadata": {
    "collapsed": true
   },
   "outputs": [],
   "source": [
    "def maindf2scans(dataframe, index_array):\n",
    "    for index in range(len(index_array)+1):\n",
    "        if index < len(index_array) - 1:\n",
    "            bgnscan = index_array[index]\n",
    "            endscan = index_array[index+1]\n",
    "            scan_name = 'scans_xlsx/df_scan_' + str(index) + '.xlsx'\n",
    "        elif index == len(index_array):\n",
    "            bgnscan = index_array[index-1]\n",
    "            endscan = len(dataframe)\n",
    "            scan_name = 'scans_xlsx/df_scan_' + str(index - 1) + '.xlsx'\n",
    "        \n",
    "        df_scan = dataframe[bgnscan:endscan]\n",
    "        df_scan.to_excel(scan_name)\n",
    "    \n",
    "    print \"Seperate scans written to disk as Excel files. \"\n",
    "    \n",
    "\n"
   ]
  },
  {
   "cell_type": "code",
   "execution_count": 54,
   "metadata": {
    "collapsed": false
   },
   "outputs": [
    {
     "name": "stdout",
     "output_type": "stream",
     "text": [
      "Seperate scans written to disk as Excel files. \n"
     ]
    }
   ],
   "source": [
    "maindf2scans(data_file, timepoints)"
   ]
  },
  {
   "cell_type": "markdown",
   "metadata": {},
   "source": [
    "## Okay, let's read a single scan (the first one) and plot it."
   ]
  },
  {
   "cell_type": "code",
   "execution_count": 55,
   "metadata": {
    "collapsed": true
   },
   "outputs": [],
   "source": [
    "scan01 = pd.read_excel('scans_xlsx/df_scan_0.xlsx')"
   ]
  },
  {
   "cell_type": "code",
   "execution_count": 56,
   "metadata": {
    "collapsed": false
   },
   "outputs": [
    {
     "name": "stdout",
     "output_type": "stream",
     "text": [
      "   rss_cfg_id  year  doy       utc       epoch  chan  sky_freq feed   pol  \\\n",
      "0       91948  2016  106  0.786134  1460746322     4      8450  hff  liny   \n",
      "1       91948  2016  106  0.786134  1460746322     4      8450  hff  liny   \n",
      "2       91948  2016  106  0.786134  1460746322     4      8450  hff  liny   \n",
      "3       91948  2016  106  0.786134  1460746322     4      8450  hff  liny   \n",
      "4       91948  2016  106  0.786134  1460746322     4      8450  hff  liny   \n",
      "\n",
      "    nd   ...   year.2  doy.2     utc.2       epoch.2     tsys        az  \\\n",
      "0  nar   ...     2016    107  0.091111  1.460773e+09  41.6857  155.2595   \n",
      "1  nar   ...     2016    107  0.091123  1.460773e+09  41.6920  155.2700   \n",
      "2  nar   ...     2016    107  0.091134  1.460773e+09  41.6755  155.2885   \n",
      "3  nar   ...     2016    107  0.091146  1.460773e+09  41.6840  155.3040   \n",
      "4  nar   ...     2016    107  0.091157  1.460773e+09  41.6795  155.3171   \n",
      "\n",
      "        el        ha      dec  offset  \n",
      "0  39.1578  340.6110 -12.1513 -0.3434  \n",
      "1  39.1618  340.6202 -12.1504 -0.3385  \n",
      "2  39.1680  340.6362 -12.1497 -0.3270  \n",
      "3  39.1712  340.6489 -12.1508 -0.3187  \n",
      "4  39.1713  340.6587 -12.1543 -0.3132  \n",
      "\n",
      "[5 rows x 37 columns]\n"
     ]
    }
   ],
   "source": [
    "print(scan01[0:5])"
   ]
  },
  {
   "cell_type": "code",
   "execution_count": 57,
   "metadata": {
    "collapsed": false
   },
   "outputs": [],
   "source": [
    "tsys1 = scan01['tsys']"
   ]
  },
  {
   "cell_type": "code",
   "execution_count": 207,
   "metadata": {
    "collapsed": false
   },
   "outputs": [
    {
     "data": {
      "text/plain": [
       "[<matplotlib.lines.Line2D at 0x7f932ad3ac50>]"
      ]
     },
     "execution_count": 207,
     "metadata": {},
     "output_type": "execute_result"
    },
    {
     "data": {
      "image/png": "[encoded data removed]",
      "text/plain": [
       "<matplotlib.figure.Figure at 0x7f932adeddd0>"
      ]
     },
     "metadata": {},
     "output_type": "display_data"
    }
   ],
   "source": [
    "plt.plot(tsys1[:])"
   ]
  },
  {
   "cell_type": "markdown",
   "metadata": {
    "collapsed": true
   },
   "source": [
    "## Success!!!"
   ]
  },
  {
   "cell_type": "markdown",
   "metadata": {},
   "source": [
    "# PART II:"
   ]
  },
  {
   "cell_type": "markdown",
   "metadata": {},
   "source": [
    "## Read in xlsx scan, convert to FITS, and write FITS file to disk."
   ]
  },
  {
   "cell_type": "code",
   "execution_count": 135,
   "metadata": {
    "collapsed": false
   },
   "outputs": [],
   "source": [
    "from astropy.io import fits\n",
    "from astropy.table import table\n",
    "from astropy.wcs import WCS"
   ]
  },
  {
   "cell_type": "markdown",
   "metadata": {},
   "source": [
    "## Let's start by reading in the Excel file for scan #5"
   ]
  },
  {
   "cell_type": "code",
   "execution_count": 59,
   "metadata": {
    "collapsed": true
   },
   "outputs": [],
   "source": [
    "scan05 = pd.read_excel('scans_xlsx/df_scan_4.xlsx')"
   ]
  },
  {
   "cell_type": "code",
   "execution_count": 137,
   "metadata": {
    "collapsed": false
   },
   "outputs": [
    {
     "name": "stdout",
     "output_type": "stream",
     "text": [
      "['J', 'J', 'J', '10A', 'J', 'J', 'J', '5A', '5A', '5A', '5A', 'J', '5A', 'J', 'J', 'J', 'J', 'J', 'J', 'J', '10A', 'J', '5A', 'J', 'J', 'J', 'J', 'J', 'J', '10A', 'E', 'E', 'E', 'E', 'E', 'E', 'E']\n"
     ]
    }
   ],
   "source": [
    "print frmts"
   ]
  },
  {
   "cell_type": "code",
   "execution_count": 125,
   "metadata": {
    "collapsed": false
   },
   "outputs": [
    {
     "name": "stdout",
     "output_type": "stream",
     "text": [
      "[ 41.6857  41.692   41.6755 ...,  41.4025  41.3852  41.4191]\n",
      "3397\n"
     ]
    }
   ],
   "source": [
    "test_array = np.array(data_file['tsys'])\n",
    "print test_array\n",
    "print len(test_array)"
   ]
  },
  {
   "cell_type": "markdown",
   "metadata": {
    "collapsed": true
   },
   "source": [
    "## Example from astropy.io.fits doc"
   ]
  },
  {
   "cell_type": "raw",
   "metadata": {
    "collapsed": true
   },
   "source": [
    ">>> import numpy as np\n",
    ">>> from astropy.io import fits\n",
    ">>> counts = np.array([312, 334, 308, 317])\n",
    ">>> names = np.array(['NGC1', 'NGC2', 'NGC3', 'NGC4'])\n",
    ">>> c1 = fits.Column(name='target', format='10A', array=names)\n",
    ">>> c2 = fits.Column(name='counts', format='J', unit='DN', array=counts)\n",
    ">>> c3 = fits.Column(name='notes', format='A10')\n",
    ">>> c4 = fits.Column(name='spectrum', format='1000E')\n",
    ">>> c5 = fits.Column(name='flag', format='L', array=[True, False, True, True])\n",
    "\n",
    "\n",
    "We can either go through the column definition object:\n",
    "\n",
    ">>> coldefs = fits.ColDefs([c1, c2, c3, c4, c5])\n",
    ">>> tbhdu = fits.BinTableHDU.from_columns(coldefs)\n",
    "\n",
    "or directly use the BinTableHDU.from_columns() method:\n",
    "\n",
    ">>> tbhdu = fits.BinTableHDU.from_columns([c1, c2, c3, c4, c5])"
   ]
  },
  {
   "cell_type": "code",
   "execution_count": 184,
   "metadata": {
    "collapsed": true
   },
   "outputs": [],
   "source": [
    "col_headers = list(scan05.columns.values)"
   ]
  },
  {
   "cell_type": "code",
   "execution_count": 185,
   "metadata": {
    "collapsed": false
   },
   "outputs": [],
   "source": [
    "cols = []\n",
    "for col_num in range(len(col_headers)):\n",
    "    col_name = col_headers[col_num]\n",
    "    col_array = np.array(scan05[col_name])\n",
    "    cn = fits.Column(name=str(col_name), format=frmts[col_num], array=col_array)\n",
    "    cols.append(cn)\n",
    "    "
   ]
  },
  {
   "cell_type": "code",
   "execution_count": 186,
   "metadata": {
    "collapsed": false
   },
   "outputs": [],
   "source": [
    "coldefs = fits.ColDefs(cols)"
   ]
  },
  {
   "cell_type": "code",
   "execution_count": 187,
   "metadata": {
    "collapsed": false
   },
   "outputs": [],
   "source": [
    "tbhdu = fits.BinTableHDU.from_columns(cols)"
   ]
  },
  {
   "cell_type": "code",
   "execution_count": 188,
   "metadata": {
    "collapsed": false
   },
   "outputs": [
    {
     "name": "stdout",
     "output_type": "stream",
     "text": [
      "XTENSION= 'BINTABLE'           / binary table extension                         BITPIX  =                    8 / array data type                                NAXIS   =                    2 / number of array dimensions                     NAXIS1  =                  172 / length of dimension 1                          NAXIS2  =                  117 / length of dimension 2                          PCOUNT  =                    0 / number of group parameters                     GCOUNT  =                    1 / number of groups                               TFIELDS =                   37 / number of table fields                         TTYPE1  = 'rss_cfg_id'                                                          TFORM1  = 'J       '                                                            TTYPE2  = 'year    '                                                            TFORM2  = 'J       '                                                            TTYPE3  = 'doy     '                                                            TFORM3  = 'J       '                                                            TTYPE4  = 'utc     '                                                            TFORM4  = '10A     '                                                            TTYPE5  = 'epoch   '                                                            TFORM5  = 'J       '                                                            TTYPE6  = 'chan    '                                                            TFORM6  = 'J       '                                                            TTYPE7  = 'sky_freq'                                                            TFORM7  = 'J       '                                                            TTYPE8  = 'feed    '                                                            TFORM8  = '5A      '                                                            TTYPE9  = 'pol     '                                                            TFORM9  = '5A      '                                                            TTYPE10 = 'nd      '                                                            TFORM10 = '5A      '                                                            TTYPE11 = 'if_mode '                                                            TFORM11 = '5A      '                                                            TTYPE12 = 'if_bw   '                                                            TFORM12 = 'J       '                                                            TTYPE13 = 'bb_bw   '                                                            TFORM13 = '5A      '                                                            TTYPE14 = 'fiber_chan'                                                          TFORM14 = 'J       '                                                            TTYPE15 = 'xpwr_cfg_id'                                                         TFORM15 = 'J       '                                                            TTYPE16 = 'rss_cfg_id.1'                                                        TFORM16 = 'J       '                                                            TTYPE17 = 'souce_id'                                                            TFORM17 = 'J       '                                                            TTYPE18 = 'cal_src_id'                                                          TFORM18 = 'J       '                                                            TTYPE19 = 'year.1  '                                                            TFORM19 = 'J       '                                                            TTYPE20 = 'doy.1   '                                                            TFORM20 = 'J       '                                                            TTYPE21 = 'utc.1   '                                                            TFORM21 = '10A     '                                                            TTYPE22 = 'epoch.1 '                                                            TFORM22 = 'J       '                                                            TTYPE23 = 'axis    '                                                            TFORM23 = '5A      '                                                            TTYPE24 = 'chan.1  '                                                            TFORM24 = 'J       '                                                            TTYPE25 = 'cal_flux'                                                            TFORM25 = 'J       '                                                            TTYPE26 = 'xpwr_id '                                                            TFORM26 = 'J       '                                                            TTYPE27 = 'xpwr_cfg_id.1'                                                       TFORM27 = 'J       '                                                            TTYPE28 = 'year.2  '                                                            TFORM28 = 'J       '                                                            TTYPE29 = 'doy.2   '                                                            TFORM29 = 'J       '                                                            TTYPE30 = 'utc.2   '                                                            TFORM30 = '10A     '                                                            TTYPE31 = 'epoch.2 '                                                            TFORM31 = 'E       '                                                            TTYPE32 = 'tsys    '                                                            TFORM32 = 'E       '                                                            TTYPE33 = 'az      '                                                            TFORM33 = 'E       '                                                            TTYPE34 = 'el      '                                                            TFORM34 = 'E       '                                                            TTYPE35 = 'ha      '                                                            TFORM35 = 'E       '                                                            TTYPE36 = 'dec     '                                                            TFORM36 = 'E       '                                                            TTYPE37 = 'offset  '                                                            TFORM37 = 'E       '                                                            END                                                                                                                                                                                                                                                                                                                                                                                                                                                                                                                                                                                                                                                                                                                                                                                                                                                                                                                                                                                                                                                                                                                                                                                                                                                                                                                                                                                                                                                                                                                                                                                                                                                                                                                                                                                                                                                                                                                                                                                                                                                                                                                                                             \n"
     ]
    }
   ],
   "source": [
    "print tbhdu.header"
   ]
  },
  {
   "cell_type": "markdown",
   "metadata": {},
   "source": [
    "## From astropy docs - description on how to make an hdu list and write out the table fits file"
   ]
  },
  {
   "cell_type": "raw",
   "metadata": {},
   "source": [
    "Now you may write this new table HDU directly to a FITS file like so:\n",
    "\n",
    ">>> tbhdu.writeto('table.fits')\n",
    "\n",
    "This shortcut will automatically create a minimal primary HDU with no data and prepend it to the table HDU to create a valid FITS file. If you require additional data or header keywords in the primary HDU you may still create a PrimaryHDU object and build up the FITS file manually using an HDUList.\n",
    "\n",
    "For example, first create a new Header object to encapsulate any keywords you want to include in the primary HDU, then as before create a PrimaryHDU:\n",
    "\n",
    ">>> prihdr = fits.Header()\n",
    ">>> prihdr['OBSERVER'] = 'Edwin Hubble'\n",
    ">>> prihdr['COMMENT'] = \"Here's some commentary about this FITS file.\"\n",
    ">>> prihdu = fits.PrimaryHDU(header=prihdr)\n",
    "\n",
    "When we create a new primary HDU with a custom header as in the above example, this will automatically include any additional header keywords that are required by the FITS format (keywords such as SIMPLE and NAXIS for example). In general, users should not have to manually manage such keywords, and should only create and modify observation-specific informational keywords.\n",
    "\n",
    "We then create a HDUList containing both the primary HDU and the newly created table extension, and write to a new file:\n",
    "\n",
    ">>> thdulist = fits.HDUList([prihdu, tbhdu])\n",
    ">>> thdulist.writeto('table.fits')\n",
    "\n",
    "Alternatively, we can append the table to the HDU list we already created in the image file section:\n",
    "\n",
    ">>>\n",
    ">>> hdulist.append(tbhdu)\n",
    ">>> hdulist.writeto('image_and_table.fits')"
   ]
  },
  {
   "cell_type": "code",
   "execution_count": 189,
   "metadata": {
    "collapsed": true
   },
   "outputs": [],
   "source": [
    "prihdr = fits.Header()"
   ]
  },
  {
   "cell_type": "code",
   "execution_count": 190,
   "metadata": {
    "collapsed": true
   },
   "outputs": [],
   "source": [
    "prihdr['OBSERVER'] = 'Area High School Astronomy Clubs'"
   ]
  },
  {
   "cell_type": "code",
   "execution_count": 191,
   "metadata": {
    "collapsed": true
   },
   "outputs": [],
   "source": [
    "prihdr['COMMENT'] = \"This is one scan of the calibration object\""
   ]
  },
  {
   "cell_type": "code",
   "execution_count": 192,
   "metadata": {
    "collapsed": true
   },
   "outputs": [],
   "source": [
    "prihdu = fits.PrimaryHDU(header=prihdr)"
   ]
  },
  {
   "cell_type": "code",
   "execution_count": 198,
   "metadata": {
    "collapsed": false
   },
   "outputs": [],
   "source": [
    "thdulist = fits.HDUList([prihdu, tbhdu])\n",
    "thdulist.writeto('scans_fits/df_scan_4.fits', clobber = True)"
   ]
  },
  {
   "cell_type": "code",
   "execution_count": 205,
   "metadata": {
    "collapsed": true
   },
   "outputs": [],
   "source": [
    "from astropy.io import fits\n",
    "from astropy.table import table\n",
    "\n",
    "def scan_xlsx2fits(dataframe,file_num):\n",
    "    col_headers = list(dataframe.columns.values)\n",
    "    frmts = ['J','J','J','10A','J','J','J','5A','5A','5A','5A','J','5A','J','J','J','J','J','J','J','10A','J','5A','J','J','J','J','J','J','10A','E','E','E','E','E','E','E']\n",
    "    \n",
    "    cols = []\n",
    "    for col_num in range(len(col_headers)):\n",
    "        col_name = col_headers[col_num]\n",
    "        col_array = np.array(dataframe[col_name])\n",
    "        cn = fits.Column(name=str(col_name), format=frmts[col_num], array=col_array)\n",
    "        cols.append(cn)\n",
    "    \n",
    "    coldefs = fits.ColDefs(cols)\n",
    "    tbhdu = fits.BinTableHDU.from_columns(cols)\n",
    "    \n",
    "    prihdr = fits.Header()\n",
    "    prihdr['OBSERVER'] = 'Area High School Astronomy Clubs'\n",
    "    prihdr['COMMENT'] = \"This is one scan of the calibration object\"\n",
    "    prihdu = fits.PrimaryHDU(header=prihdr)\n",
    "    thdulist = fits.HDUList([prihdu, tbhdu])\n",
    "    scan_name = 'scans_fits/df_scan_' + str(file_num) + '.fits'\n",
    "    thdulist.writeto(scan_name, clobber = True)\n",
    "\n"
   ]
  },
  {
   "cell_type": "code",
   "execution_count": 203,
   "metadata": {
    "collapsed": false
   },
   "outputs": [
    {
     "name": "stdout",
     "output_type": "stream",
     "text": [
      "31\n"
     ]
    }
   ],
   "source": [
    "import os, os.path\n",
    "\n",
    "path = './scans_xlsx'\n",
    "num_files = len([f for f in os.listdir(path)\n",
    "                if os.path.isfile(os.path.join(path, f))])\n",
    "\n",
    "print num_files"
   ]
  },
  {
   "cell_type": "code",
   "execution_count": 204,
   "metadata": {
    "collapsed": false
   },
   "outputs": [
    {
     "name": "stdout",
     "output_type": "stream",
     "text": [
      "[0, 1, 2, 3, 4, 5, 6, 7, 8, 9, 10, 11, 12, 13, 14, 15, 16, 17, 18, 19, 20, 21, 22, 23, 24, 25, 26, 27, 28, 29, 30]\n"
     ]
    }
   ],
   "source": [
    "print range(num_files)"
   ]
  },
  {
   "cell_type": "code",
   "execution_count": 206,
   "metadata": {
    "collapsed": false
   },
   "outputs": [
    {
     "name": "stdout",
     "output_type": "stream",
     "text": [
      "scans in Excel xlsx format converted and written to disk as a Fits files. \n"
     ]
    }
   ],
   "source": [
    "for num in range(num_files):\n",
    "    scan = pd.read_excel('scans_xlsx/df_scan_' + str(num) + '.xlsx')\n",
    "    scan_xlsx2fits(scan, num)\n",
    "    \n",
    "print \"scans in Excel xlsx format converted and written to disk as a Fits files. \""
   ]
  },
  {
   "cell_type": "code",
   "execution_count": null,
   "metadata": {
    "collapsed": true
   },
   "outputs": [],
   "source": []
  }
 ],
 "metadata": {
  "kernelspec": {
   "display_name": "Python 2",
   "language": "python",
   "name": "python2"
  },
  "language_info": {
   "codemirror_mode": {
    "name": "ipython",
    "version": 2
   },
   "file_extension": ".py",
   "mimetype": "text/x-python",
   "name": "python",
   "nbconvert_exporter": "python",
   "pygments_lexer": "ipython2",
   "version": "2.7.11"
  }
 },
 "nbformat": 4,
 "nbformat_minor": 0
}
